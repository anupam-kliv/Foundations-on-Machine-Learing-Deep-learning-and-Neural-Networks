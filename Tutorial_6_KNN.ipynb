{
 "cells": [
  {
   "cell_type": "markdown",
   "id": "2c6f0ddf",
   "metadata": {},
   "source": [
    "Step 1: Import Required Libraries\n",
    "First, we need to import the required libraries for implementing the KNN algorithm. In this tutorial, we will use NumPy for numerical computations and Pandas for data manipulation"
   ]
  },
  {
   "cell_type": "code",
   "execution_count": 1,
   "id": "c6699c97",
   "metadata": {},
   "outputs": [],
   "source": [
    "import numpy as np\n",
    "import pandas as pd"
   ]
  },
  {
   "cell_type": "markdown",
   "id": "5fd4f9fd",
   "metadata": {},
   "source": [
    "Step 2: Load the Dataset\n",
    "Next, we need to load the dataset into a Pandas DataFrame. In this example, we will use the famous Iris dataset, which contains information about the sepal length, sepal width, petal length, and petal width of three different types of iris flowers."
   ]
  },
  {
   "cell_type": "code",
   "execution_count": 2,
   "id": "3d250bf1",
   "metadata": {},
   "outputs": [],
   "source": [
    "df = pd.read_csv('https://archive.ics.uci.edu/ml/machine-learning-databases/iris/iris.data', header=None, names=['sepal length', 'sepal width', 'petal length', 'petal width', 'class'])"
   ]
  },
  {
   "cell_type": "markdown",
   "id": "061037e2",
   "metadata": {},
   "source": [
    "Step 3: Split the Dataset into Training and Test Sets\n",
    "We need to split the dataset into a training set and a test set. In this example, we will use 70% of the data for training and 30% for testing."
   ]
  },
  {
   "cell_type": "code",
   "execution_count": 3,
   "id": "4d24f39d",
   "metadata": {},
   "outputs": [],
   "source": [
    "from sklearn.model_selection import train_test_split\n",
    "\n",
    "X = df.iloc[:, :-1].values\n",
    "y = df.iloc[:, -1].values\n",
    "\n",
    "X_train, X_test, y_train, y_test = train_test_split(X, y, test_size=0.3, random_state=1, stratify=y)\n"
   ]
  },
  {
   "cell_type": "markdown",
   "id": "27447b7e",
   "metadata": {},
   "source": [
    "Step 4: Normalize the Data\n",
    "Next, we need to normalize the data to ensure that all features have the same scale. In this example, we will use the Min-Max scaling method to normalize the data."
   ]
  },
  {
   "cell_type": "code",
   "execution_count": 4,
   "id": "aa6a2e63",
   "metadata": {},
   "outputs": [],
   "source": [
    "from sklearn.preprocessing import MinMaxScaler\n",
    "\n",
    "scaler = MinMaxScaler()\n",
    "X_train = scaler.fit_transform(X_train)\n",
    "X_test = scaler.transform(X_test)"
   ]
  },
  {
   "cell_type": "markdown",
   "id": "690b1032",
   "metadata": {},
   "source": [
    "Step 5: Implement the KNN Algorithm\n",
    "Now we can implement the KNN algorithm using scikit-learn. We will use the KNeighborsClassifier class, which takes two parameters: the number of neighbors (k) and the distance metric (we will use Euclidean distance)."
   ]
  },
  {
   "cell_type": "code",
   "execution_count": 5,
   "id": "979d05a8",
   "metadata": {},
   "outputs": [
    {
     "data": {
      "text/plain": [
       "KNeighborsClassifier(metric='euclidean')"
      ]
     },
     "execution_count": 5,
     "metadata": {},
     "output_type": "execute_result"
    }
   ],
   "source": [
    "from sklearn.neighbors import KNeighborsClassifier\n",
    "\n",
    "k = 5\n",
    "metric = 'euclidean'\n",
    "\n",
    "knn = KNeighborsClassifier(n_neighbors=k, metric=metric)\n",
    "knn.fit(X_train, y_train)"
   ]
  },
  {
   "cell_type": "markdown",
   "id": "a310969c",
   "metadata": {},
   "source": [
    "Step 6: Evaluate the Model\n",
    "Finally, we need to evaluate the performance of the model on the test set. We will use the accuracy score as the performance metric."
   ]
  },
  {
   "cell_type": "code",
   "execution_count": 7,
   "id": "3c239e5d",
   "metadata": {},
   "outputs": [
    {
     "name": "stdout",
     "output_type": "stream",
     "text": [
      "Accuracy: 0.9777777777777777\n"
     ]
    }
   ],
   "source": [
    "from sklearn.metrics import accuracy_score\n",
    "\n",
    "y_pred = knn.predict(X_test)\n",
    "accuracy = accuracy_score(y_test, y_pred) #y_test -- actual and y_pred-- model (actual -model)\n",
    "\n",
    "print('Accuracy:', accuracy)\n"
   ]
  },
  {
   "cell_type": "markdown",
   "id": "cc841614",
   "metadata": {},
   "source": [
    "That's it! You have successfully implemented the KNN algorithm in Python. Here's the complete code:"
   ]
  },
  {
   "cell_type": "code",
   "execution_count": 10,
   "id": "603be195",
   "metadata": {},
   "outputs": [
    {
     "name": "stdout",
     "output_type": "stream",
     "text": [
      "Accuracy: 0.9777777777777777\n"
     ]
    }
   ],
   "source": [
    "import numpy as np\n",
    "import pandas as pd\n",
    "from sklearn.model_selection import train_test_split\n",
    "from sklearn.preprocessing import MinMaxScaler\n",
    "from sklearn.neighbors import KNeighborsClassifier\n",
    "from sklearn.metrics import accuracy_score\n",
    "\n",
    "# Load the dataset\n",
    "df = pd.read_csv('https://archive.ics.uci.edu/ml/machine-learning-databases/iris/iris.data', header=None, names=['sepal length', 'sepal width', 'petal length', 'petal width', 'class'])\n",
    "\n",
    "# Split the dataset into training and test sets\n",
    "X = df.iloc[:, :-1].values\n",
    "y = df.iloc[:, -1].values\n",
    "X_train, X_test, y_train, y_test = train_test_split(X, y, test_size=0.3, random_state=1, stratify=y)\n",
    "\n",
    "# Normalize the data\n",
    "scaler = MinMaxScaler()\n",
    "X_train = scaler.fit_transform(X_train)\n",
    "X_test = scaler.transform(X_test)\n",
    "\n",
    "# Implement the KNN algorithm\n",
    "k = 5\n",
    "metric = 'euclidean'\n",
    "knn = KNeighborsClassifier(n_neighbors=k, metric=metric)\n",
    "knn.fit(X_train, y_train)\n",
    "\n",
    "# Evaluate the model\n",
    "y_pred = knn.predict(X_test)\n",
    "accuracy = accuracy_score(y_test, y_pred)\n",
    "\n",
    "print('Accuracy:', accuracy)\n"
   ]
  },
  {
   "cell_type": "code",
   "execution_count": null,
   "id": "cbb3a9ca",
   "metadata": {},
   "outputs": [],
   "source": []
  },
  {
   "cell_type": "code",
   "execution_count": null,
   "id": "3caf2825",
   "metadata": {},
   "outputs": [],
   "source": []
  }
 ],
 "metadata": {
  "kernelspec": {
   "display_name": "Python 3 (ipykernel)",
   "language": "python",
   "name": "python3"
  },
  "language_info": {
   "codemirror_mode": {
    "name": "ipython",
    "version": 3
   },
   "file_extension": ".py",
   "mimetype": "text/x-python",
   "name": "python",
   "nbconvert_exporter": "python",
   "pygments_lexer": "ipython3",
   "version": "3.9.6"
  }
 },
 "nbformat": 4,
 "nbformat_minor": 5
}
