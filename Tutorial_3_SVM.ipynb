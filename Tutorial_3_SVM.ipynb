{
 "cells": [
  {
   "cell_type": "markdown",
   "id": "8e36f775",
   "metadata": {},
   "source": [
    "# Implementation of SVM "
   ]
  },
  {
   "cell_type": "markdown",
   "id": "10e1b521",
   "metadata": {},
   "source": [
    "#  Import libaries"
   ]
  },
  {
   "cell_type": "code",
   "execution_count": 1,
   "id": "a4d61907",
   "metadata": {},
   "outputs": [],
   "source": [
    "import numpy as np\n",
    "import matplotlib.pyplot as plt #visualization\n",
    "from sklearn import svm  #svm function\n",
    "from sklearn.datasets import make_blobs #create data from library"
   ]
  },
  {
   "cell_type": "markdown",
   "id": "64cb1c5e",
   "metadata": {},
   "source": [
    "# Create a custome training dataset"
   ]
  },
  {
   "cell_type": "markdown",
   "id": "2884a38d",
   "metadata": {},
   "source": [
    "https://scikit-learn.org/stable/datasets/sample_generators.html#:~:text=Both%20make_blobs%20and%20make_classification%20create%20multiclass%20datasets%20by,class%3B%20and%20linear%20transformations%20of%20the%20feature%20space."
   ]
  },
  {
   "cell_type": "code",
   "execution_count": 21,
   "id": "d27148d4",
   "metadata": {},
   "outputs": [],
   "source": [
    "X,y=make_blobs(n_samples=100, n_features=2 ,centers=10,random_state=20) #40 lines with 2 centres each group 20 pieces data"
   ]
  },
  {
   "cell_type": "code",
   "execution_count": 23,
   "id": "d151cd46",
   "metadata": {},
   "outputs": [
    {
     "name": "stdout",
     "output_type": "stream",
     "text": [
      "Length of X: 100\n",
      "Length of Y: 100\n"
     ]
    }
   ],
   "source": [
    "print(\"Length of X:\", len(X))\n",
    "print(\"Length of Y:\", len(y))"
   ]
  },
  {
   "cell_type": "code",
   "execution_count": 20,
   "id": "971d562e",
   "metadata": {},
   "outputs": [
    {
     "name": "stdout",
     "output_type": "stream",
     "text": [
      "Shape of X:  (150, 2)\n",
      "Shape of y:  (150,)\n"
     ]
    }
   ],
   "source": [
    "print(\"Shape of X: \", np.shape(X))\n",
    "print(\"Shape of y: \", np.shape(y))"
   ]
  },
  {
   "cell_type": "code",
   "execution_count": 12,
   "id": "0c27ac3b",
   "metadata": {},
   "outputs": [
    {
     "data": {
      "text/plain": [
       "array([1, 0, 1, 1, 0, 0, 0, 1, 0, 1, 0, 1, 0, 1, 1, 1, 0, 0, 0, 1, 0, 0,\n",
       "       1, 0, 1, 0, 1, 1, 1, 0, 1, 0, 1, 1, 0, 0, 1, 1, 0, 1, 1, 0, 0, 0,\n",
       "       0, 0, 1, 1, 1, 0])"
      ]
     },
     "execution_count": 12,
     "metadata": {},
     "output_type": "execute_result"
    }
   ],
   "source": [
    "y"
   ]
  },
  {
   "cell_type": "markdown",
   "id": "cb5f9772",
   "metadata": {},
   "source": [
    "# Load it to SVM"
   ]
  },
  {
   "cell_type": "markdown",
   "id": "f4238481",
   "metadata": {},
   "source": [
    "https://scikit-learn.org/stable/modules/generated/sklearn.svm.SVC.html"
   ]
  },
  {
   "cell_type": "code",
   "execution_count": 13,
   "id": "e763b56f",
   "metadata": {},
   "outputs": [
    {
     "data": {
      "text/plain": [
       "SVC(C=2, kernel='linear')"
      ]
     },
     "execution_count": 13,
     "metadata": {},
     "output_type": "execute_result"
    }
   ],
   "source": [
    "clf = svm.SVC(kernel='linear', C=2) # 2lines of codes seed=1 no regulizer , linear -2D only\n",
    "clf.fit(X,y) "
   ]
  },
  {
   "cell_type": "code",
   "execution_count": 14,
   "id": "74eb2024",
   "metadata": {},
   "outputs": [
    {
     "data": {
      "text/plain": [
       "array([6.38876601, 1.89139437, 7.42104316, 8.47704476, 0.97059923,\n",
       "       2.88274828, 1.160308  , 7.27542879, 2.08607703, 7.00192182,\n",
       "       2.26571286, 6.86839861, 2.28968574, 7.9294032 , 8.35834306,\n",
       "       9.13204399, 0.82767806, 1.59396992, 0.67778343, 7.97423722,\n",
       "       2.25605326, 2.8137247 , 8.92604794, 1.42412542, 7.42608057,\n",
       "       2.09222936, 6.77444559, 8.68770841, 7.29853534, 0.87712287,\n",
       "       6.88059658, 2.12015254, 6.9758391 , 6.34822954, 1.65359865,\n",
       "       0.48311336, 8.52161671, 7.59114483, 2.9671273 , 6.20111307,\n",
       "       7.61095347, 2.40965011, 1.51927726, 1.71842122, 2.69548237,\n",
       "       2.20064052, 6.8917041 , 9.92527993, 7.86880706, 2.70208537])"
      ]
     },
     "execution_count": 14,
     "metadata": {},
     "output_type": "execute_result"
    }
   ],
   "source": [
    "X[:,0]"
   ]
  },
  {
   "cell_type": "markdown",
   "id": "2b01997b",
   "metadata": {},
   "source": [
    "# Visualize the data"
   ]
  },
  {
   "cell_type": "code",
   "execution_count": 15,
   "id": "65d34646",
   "metadata": {},
   "outputs": [
    {
     "data": {
      "image/png": "[encoded data removed]",
      "text/plain": [
       "<Figure size 432x288 with 1 Axes>"
      ]
     },
     "metadata": {
      "needs_background": "light"
     },
     "output_type": "display_data"
    }
   ],
   "source": [
    "plt.scatter(X[:,0], X[:,1], c=y, s=30, cmap=plt.cm.Paired) #scatter plot just dots numpy array as X[:,0] - all rows only 1st value X Y plot, s=30 denotes the size of the dots, cmap for color\n",
    "plt.show()"
   ]
  },
  {
   "cell_type": "markdown",
   "id": "b0664952",
   "metadata": {},
   "source": [
    "# Predict some unknown data"
   ]
  },
  {
   "cell_type": "code",
   "execution_count": 16,
   "id": "1070957e",
   "metadata": {},
   "outputs": [
    {
     "name": "stdout",
     "output_type": "stream",
     "text": [
      "Predicted Class for each of the data points:  [1 1]\n"
     ]
    }
   ],
   "source": [
    "#prediction of new data\n",
    "newData=[[30,48],[5,6]] \n",
    "print(\"Predicted Class for each of the data points: \",clf.predict(newData))"
   ]
  },
  {
   "cell_type": "code",
   "execution_count": 17,
   "id": "31264f9a",
   "metadata": {},
   "outputs": [
    {
     "name": "stdout",
     "output_type": "stream",
     "text": [
      "Predicted Class for each of the data points:  [1 0]\n"
     ]
    }
   ],
   "source": [
    "#prediction of new data\n",
    "newData=[[8,9],[2,6]] \n",
    "print(\"Predicted Class for each of the data points: \",clf.predict(newData))"
   ]
  },
  {
   "cell_type": "markdown",
   "id": "653ee68c",
   "metadata": {},
   "source": [
    "# Implementation of Decision Surface along with Support Vectors and margin"
   ]
  },
  {
   "cell_type": "code",
   "execution_count": 18,
   "id": "433b5aac",
   "metadata": {},
   "outputs": [
    {
     "data": {
      "image/png": "[encoded data removed]",
      "text/plain": [
       "<Figure size 432x288 with 1 Axes>"
      ]
     },
     "metadata": {
      "needs_background": "light"
     },
     "output_type": "display_data"
    }
   ],
   "source": [
    "#fit the model\n",
    "clf = svm.SVC(kernel='linear', C=1000)\n",
    "clf.fit(X,y)\n",
    "plt.scatter(X[:,0], X[:,1], c=y, s=30, cmap=plt.cm.Paired)\n",
    "\n",
    "#plot the decision function\n",
    "ax=plt.gca() \n",
    "xlim=ax.get_xlim() #get x-limit\n",
    "ylim=ax.get_ylim() #get y-limit\n",
    "\n",
    "\n",
    "#create grid to evaluate model\n",
    "xx=np.linspace(xlim[0], xlim[1], 30) #create 30 points between 0 and 1\n",
    "yy=np.linspace(ylim[0], ylim[1], 30)\n",
    "YY, XX = np.meshgrid(yy,xx)  #one array\n",
    "xy=np.vstack([XX.ravel(), YY.ravel()]).T\n",
    "Z= clf.decision_function(xy).reshape(XX.shape) #clf is support vector machine that is trained\n",
    "\n",
    "#plot decison boundary and the support vectors\n",
    "ax.contour(XX,YY, Z, colors='g', levels=[-1,0,1],\n",
    "           alpha =0.5,\n",
    "           linestyles=['--', '-','--'])\n",
    "ax.scatter(clf.support_vectors_[:,0],\n",
    "          clf.support_vectors_[:,1], s=100,\n",
    "          linewidth=1, facecolors='none')\n",
    "plt.show()\n"
   ]
  },
  {
   "cell_type": "code",
   "execution_count": 71,
   "id": "538ead47",
   "metadata": {},
   "outputs": [
    {
     "data": {
      "text/plain": [
       "(30,)"
      ]
     },
     "execution_count": 71,
     "metadata": {},
     "output_type": "execute_result"
    }
   ],
   "source": [
    "xx.shape"
   ]
  },
  {
   "cell_type": "code",
   "execution_count": null,
   "id": "c155cc4c",
   "metadata": {},
   "outputs": [],
   "source": []
  },
  {
   "cell_type": "code",
   "execution_count": null,
   "id": "71cb61d1",
   "metadata": {},
   "outputs": [],
   "source": []
  }
 ],
 "metadata": {
  "kernelspec": {
   "display_name": "Python 3 (ipykernel)",
   "language": "python",
   "name": "python3"
  },
  "language_info": {
   "codemirror_mode": {
    "name": "ipython",
    "version": 3
   },
   "file_extension": ".py",
   "mimetype": "text/x-python",
   "name": "python",
   "nbconvert_exporter": "python",
   "pygments_lexer": "ipython3",
   "version": "3.9.6"
  }
 },
 "nbformat": 4,
 "nbformat_minor": 5
}
